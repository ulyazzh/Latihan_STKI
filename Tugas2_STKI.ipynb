{
  "cells": [
    {
      "cell_type": "markdown",
      "metadata": {
        "id": "view-in-github",
        "colab_type": "text"
      },
      "source": [
        "<a href=\"https://colab.research.google.com/github/ulyazzh/Latihan_STKI/blob/main/Tugas2_STKI.ipynb\" target=\"_parent\"><img src=\"https://colab.research.google.com/assets/colab-badge.svg\" alt=\"Open In Colab\"/></a>"
      ]
    },
    {
      "cell_type": "code",
      "source": [
        "import pandas as pd\n",
        "import numpy as np"
      ],
      "metadata": {
        "id": "prsh-wL9zGQR"
      },
      "execution_count": 1,
      "outputs": []
    },
    {
      "cell_type": "code",
      "source": [
        "dataset = pd.read_csv('gojek.csv',sep=',')"
      ],
      "metadata": {
        "id": "pfWB9vzAzK4W"
      },
      "execution_count": 5,
      "outputs": []
    },
    {
      "cell_type": "code",
      "source": [
        "dataset.shape"
      ],
      "metadata": {
        "id": "369VlS9PzyBW",
        "outputId": "cf3c827f-b311-4e2c-e843-663ca0ab0000",
        "colab": {
          "base_uri": "https://localhost:8080/"
        }
      },
      "execution_count": 6,
      "outputs": [
        {
          "output_type": "execute_result",
          "data": {
            "text/plain": [
              "(225002, 5)"
            ]
          },
          "metadata": {},
          "execution_count": 6
        }
      ]
    },
    {
      "cell_type": "code",
      "source": [
        "dataset_feature = dataset['userName'].astype(str)"
      ],
      "metadata": {
        "id": "1CTqkjD9z83u"
      },
      "execution_count": 8,
      "outputs": []
    },
    {
      "cell_type": "code",
      "source": [
        "dataset_label = dataset['score']"
      ],
      "metadata": {
        "id": "Udundtkl0hpt"
      },
      "execution_count": 13,
      "outputs": []
    },
    {
      "cell_type": "code",
      "source": [
        "import matplotlib.pyplot as plt\n",
        "import seaborn as sns\n",
        "%matplotlib inline"
      ],
      "metadata": {
        "id": "CCyjhvyG1CYM"
      },
      "execution_count": 14,
      "outputs": []
    },
    {
      "cell_type": "code",
      "source": [
        "# Visualizing the target variable\n",
        "plt.figure(figsize=(5,8))\n",
        "sns.distplot(dataset_label, label=f'target, skew: {dataset_label.skew():.2f}')\n",
        "plt.legend(loc='best')\n",
        "plt.show()"
      ],
      "metadata": {
        "id": "ZrcVM9RP1HHR",
        "outputId": "d805ed1e-25a1-4dc8-9e4f-e1070f7b0fd2",
        "colab": {
          "base_uri": "https://localhost:8080/",
          "height": 887
        }
      },
      "execution_count": 23,
      "outputs": [
        {
          "output_type": "stream",
          "name": "stderr",
          "text": [
            "<ipython-input-23-a0ebdaa64f8f>:3: UserWarning: \n",
            "\n",
            "`distplot` is a deprecated function and will be removed in seaborn v0.14.0.\n",
            "\n",
            "Please adapt your code to use either `displot` (a figure-level function with\n",
            "similar flexibility) or `histplot` (an axes-level function for histograms).\n",
            "\n",
            "For a guide to updating your code to use the new functions, please see\n",
            "https://gist.github.com/mwaskom/de44147ed2974457ad6372750bbe5751\n",
            "\n",
            "  sns.distplot(dataset_label, label=f'target, skew: {dataset_label.skew():.2f}')\n"
          ]
        },
        {
          "output_type": "display_data",
          "data": {
            "text/plain": [
              "<Figure size 500x800 with 1 Axes>"
            ],
            "image/png": "[encoded data removed]"
          },
          "metadata": {}
        }
      ]
    },
    {
      "cell_type": "code",
      "source": [
        "dataset_label.value_counts()"
      ],
      "metadata": {
        "id": "hhfftrSC25nO",
        "outputId": "37b9a5d6-f5d1-4e66-d27f-2abb229ad81b",
        "colab": {
          "base_uri": "https://localhost:8080/",
          "height": 272
        }
      },
      "execution_count": 24,
      "outputs": [
        {
          "output_type": "execute_result",
          "data": {
            "text/plain": [
              "score\n",
              "5    147055\n",
              "1     45229\n",
              "4     14316\n",
              "3      9460\n",
              "2      8942\n",
              "Name: count, dtype: int64"
            ],
            "text/html": [
              "<div>\n",
              "<style scoped>\n",
              "    .dataframe tbody tr th:only-of-type {\n",
              "        vertical-align: middle;\n",
              "    }\n",
              "\n",
              "    .dataframe tbody tr th {\n",
              "        vertical-align: top;\n",
              "    }\n",
              "\n",
              "    .dataframe thead th {\n",
              "        text-align: right;\n",
              "    }\n",
              "</style>\n",
              "<table border=\"1\" class=\"dataframe\">\n",
              "  <thead>\n",
              "    <tr style=\"text-align: right;\">\n",
              "      <th></th>\n",
              "      <th>count</th>\n",
              "    </tr>\n",
              "    <tr>\n",
              "      <th>score</th>\n",
              "      <th></th>\n",
              "    </tr>\n",
              "  </thead>\n",
              "  <tbody>\n",
              "    <tr>\n",
              "      <th>5</th>\n",
              "      <td>147055</td>\n",
              "    </tr>\n",
              "    <tr>\n",
              "      <th>1</th>\n",
              "      <td>45229</td>\n",
              "    </tr>\n",
              "    <tr>\n",
              "      <th>4</th>\n",
              "      <td>14316</td>\n",
              "    </tr>\n",
              "    <tr>\n",
              "      <th>3</th>\n",
              "      <td>9460</td>\n",
              "    </tr>\n",
              "    <tr>\n",
              "      <th>2</th>\n",
              "      <td>8942</td>\n",
              "    </tr>\n",
              "  </tbody>\n",
              "</table>\n",
              "</div><br><label><b>dtype:</b> int64</label>"
            ]
          },
          "metadata": {},
          "execution_count": 24
        }
      ]
    },
    {
      "cell_type": "code",
      "source": [
        "from sklearn.feature_extraction.text import CountVectorizer"
      ],
      "metadata": {
        "id": "ZuFkGVL93HCZ"
      },
      "execution_count": 25,
      "outputs": []
    },
    {
      "cell_type": "code",
      "source": [
        "vectorizer = CountVectorizer()"
      ],
      "metadata": {
        "id": "UNcqY-2_3JMF"
      },
      "execution_count": 29,
      "outputs": []
    },
    {
      "cell_type": "code",
      "source": [
        "X = vectorizer.fit_transform(dataset_feature)"
      ],
      "metadata": {
        "id": "s6aIdqfK3NKW"
      },
      "execution_count": 30,
      "outputs": []
    },
    {
      "cell_type": "code",
      "source": [
        "X"
      ],
      "metadata": {
        "id": "K6EPWMNN3Z92",
        "outputId": "189fb29e-ab2d-45a3-e14d-9153a670c9de",
        "colab": {
          "base_uri": "https://localhost:8080/"
        }
      },
      "execution_count": 31,
      "outputs": [
        {
          "output_type": "execute_result",
          "data": {
            "text/plain": [
              "<225002x112919 sparse matrix of type '<class 'numpy.int64'>'\n",
              "\twith 465527 stored elements in Compressed Sparse Row format>"
            ]
          },
          "metadata": {},
          "execution_count": 31
        }
      ]
    },
    {
      "cell_type": "code",
      "source": [
        "print(vectorizer.get_feature_names_out())"
      ],
      "metadata": {
        "id": "m5vORpZL3dF7",
        "outputId": "1f7fd351-7c4c-473b-ffe4-b08ab95c13eb",
        "colab": {
          "base_uri": "https://localhost:8080/"
        }
      },
      "execution_count": 38,
      "outputs": [
        {
          "output_type": "stream",
          "name": "stdout",
          "text": [
            "['00' '000' '0001' ... '테사' '텔레비전내' '피릭스너나']\n"
          ]
        }
      ]
    },
    {
      "cell_type": "code",
      "source": [
        "print(X.toarray())"
      ],
      "metadata": {
        "id": "TBCq8TY86Dto",
        "outputId": "2405497f-d65d-4dd9-f582-bce7f22298e5",
        "colab": {
          "base_uri": "https://localhost:8080/"
        }
      },
      "execution_count": 39,
      "outputs": [
        {
          "output_type": "stream",
          "name": "stdout",
          "text": [
            "[[0 0 0 ... 0 0 0]\n",
            " [0 0 0 ... 0 0 0]\n",
            " [0 0 0 ... 0 0 0]\n",
            " ...\n",
            " [0 0 0 ... 0 0 0]\n",
            " [0 0 0 ... 0 0 0]\n",
            " [0 0 0 ... 0 0 0]]\n"
          ]
        }
      ]
    },
    {
      "cell_type": "code",
      "source": [
        "vectorizer2 = CountVectorizer(analyzer='word', ngram_range=(2, 2))"
      ],
      "metadata": {
        "id": "k9qYob5H6M1l"
      },
      "execution_count": 40,
      "outputs": []
    },
    {
      "cell_type": "code",
      "source": [
        "X2 = vectorizer2.fit_transform(dataset_feature)"
      ],
      "metadata": {
        "id": "V5m8nP2w6RiQ"
      },
      "execution_count": 41,
      "outputs": []
    },
    {
      "cell_type": "code",
      "source": [
        "print(vectorizer2.get_feature_names_out())"
      ],
      "metadata": {
        "id": "SbAk9oMV6XFH",
        "outputId": "77b8d9d8-07a3-4e11-b2db-45f3bca684ef",
        "colab": {
          "base_uri": "https://localhost:8080/"
        }
      },
      "execution_count": 42,
      "outputs": [
        {
          "output_type": "stream",
          "name": "stdout",
          "text": [
            "['00 azahra' '000 111' '0007 ayusyafitri' ... '아궁수크마 agung'\n",
            " '이차_ichaemon 97' '태기 노민vikhanisa']\n"
          ]
        }
      ]
    },
    {
      "cell_type": "code",
      "source": [
        "print(X2.toarray())"
      ],
      "metadata": {
        "id": "y8WAKH6U6dbB",
        "outputId": "11a26484-3740-46ec-d3a5-0177e75bf8d5",
        "colab": {
          "base_uri": "https://localhost:8080/"
        }
      },
      "execution_count": 43,
      "outputs": [
        {
          "output_type": "stream",
          "name": "stdout",
          "text": [
            "[[0 0 0 ... 0 0 0]\n",
            " [0 0 0 ... 0 0 0]\n",
            " [0 0 0 ... 0 0 0]\n",
            " ...\n",
            " [0 0 0 ... 0 0 0]\n",
            " [0 0 0 ... 0 0 0]\n",
            " [0 0 0 ... 0 0 0]]\n"
          ]
        }
      ]
    },
    {
      "cell_type": "code",
      "source": [
        "print(X2)"
      ],
      "metadata": {
        "id": "XZafxZ0D6fin",
        "outputId": "6a2e140d-3dbf-45cd-9256-5db780a076cd",
        "colab": {
          "base_uri": "https://localhost:8080/"
        }
      },
      "execution_count": 44,
      "outputs": [
        {
          "output_type": "stream",
          "name": "stdout",
          "text": [
            "  (0, 215138)\t1\n",
            "  (1, 76816)\t1\n",
            "  (2, 23704)\t1\n",
            "  (2, 188352)\t1\n",
            "  (3, 138930)\t1\n",
            "  (4, 200414)\t1\n",
            "  (5, 29455)\t1\n",
            "  (6, 185308)\t1\n",
            "  (7, 87833)\t1\n",
            "  (8, 157395)\t1\n",
            "  (9, 123343)\t1\n",
            "  (10, 143217)\t1\n",
            "  (11, 133842)\t1\n",
            "  (11, 99897)\t1\n",
            "  (12, 121545)\t1\n",
            "  (13, 140709)\t1\n",
            "  (14, 157253)\t1\n",
            "  (15, 76155)\t1\n",
            "  (16, 140717)\t1\n",
            "  (16, 181940)\t1\n",
            "  (17, 26364)\t1\n",
            "  (18, 130223)\t1\n",
            "  (18, 93168)\t1\n",
            "  (19, 10886)\t1\n",
            "  (20, 162674)\t1\n",
            "  :\t:\n",
            "  (224977, 34855)\t1\n",
            "  (224978, 21518)\t1\n",
            "  (224979, 219094)\t1\n",
            "  (224980, 173520)\t1\n",
            "  (224981, 88880)\t1\n",
            "  (224982, 206907)\t1\n",
            "  (224983, 75809)\t1\n",
            "  (224984, 174450)\t1\n",
            "  (224985, 106412)\t1\n",
            "  (224986, 171337)\t1\n",
            "  (224987, 101168)\t1\n",
            "  (224988, 105631)\t1\n",
            "  (224988, 82843)\t1\n",
            "  (224989, 126536)\t1\n",
            "  (224990, 63169)\t1\n",
            "  (224991, 135732)\t1\n",
            "  (224992, 153006)\t1\n",
            "  (224993, 70300)\t1\n",
            "  (224994, 73109)\t1\n",
            "  (224994, 72769)\t1\n",
            "  (224995, 103687)\t1\n",
            "  (224996, 72329)\t1\n",
            "  (224997, 175109)\t1\n",
            "  (224998, 70965)\t1\n",
            "  (225001, 164328)\t1\n"
          ]
        }
      ]
    }
  ],
  "metadata": {
    "colab": {
      "name": "Welcome To Colab",
      "provenance": [],
      "include_colab_link": true
    },
    "kernelspec": {
      "display_name": "Python 3",
      "name": "python3"
    }
  },
  "nbformat": 4,
  "nbformat_minor": 0
}