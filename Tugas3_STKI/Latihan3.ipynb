{
  "nbformat": 4,
  "nbformat_minor": 0,
  "metadata": {
    "colab": {
      "provenance": [],
      "authorship_tag": "ABX9TyOXgrC25C7GdVgNw0sxOjE9",
      "include_colab_link": true
    },
    "kernelspec": {
      "name": "python3",
      "display_name": "Python 3"
    },
    "language_info": {
      "name": "python"
    }
  },
  "cells": [
    {
      "cell_type": "markdown",
      "metadata": {
        "id": "view-in-github",
        "colab_type": "text"
      },
      "source": [
        "<a href=\"https://colab.research.google.com/github/ulyazzh/Latihan_STKI/blob/main/Tugas3_STKI/Latihan3.ipynb\" target=\"_parent\"><img src=\"https://colab.research.google.com/assets/colab-badge.svg\" alt=\"Open In Colab\"/></a>"
      ]
    },
    {
      "cell_type": "code",
      "execution_count": 17,
      "metadata": {
        "colab": {
          "base_uri": "https://localhost:8080/"
        },
        "id": "dx63sm1Us-fL",
        "outputId": "735b3d38-77a0-47e7-d716-771cd4ef3790"
      },
      "outputs": [
        {
          "output_type": "stream",
          "name": "stdout",
          "text": [
            "[1 0 1 0 1 0 1]\n",
            "[[0.37454012 0.95071431 0.73199394 0.59865848]\n",
            " [0.15601864 0.15599452 0.05808361 0.86617615]\n",
            " [0.60111501 0.70807258 0.02058449 0.96990985]\n",
            " [0.83244264 0.21233911 0.18182497 0.18340451]\n",
            " [0.30424224 0.52475643 0.43194502 0.29122914]\n",
            " [0.61185289 0.13949386 0.29214465 0.36636184]\n",
            " [0.45606998 0.78517596 0.19967378 0.51423444]]\n",
            "[1.73596736 2.96871928 1.38419724 2.37403191]\n",
            "[[0.59241457 0.04645041 0.60754485 0.17052412 0.06505159 0.94888554\n",
            "  0.96563203]\n",
            " [0.80839735 0.30461377 0.09767211 0.68423303 0.44015249 0.12203823\n",
            "  0.49517691]\n",
            " [0.03438852 0.9093204  0.25877998 0.66252228 0.31171108 0.52006802\n",
            "  0.54671028]\n",
            " [0.18485446 0.96958463 0.77513282 0.93949894 0.89482735 0.59789998\n",
            "  0.92187424]]\n",
            "[3.91476802 4.54545281 3.54303172 5.47478208 3.97543493 4.14884193\n",
            " 6.09166064]\n"
          ]
        }
      ],
      "source": [
        "import numpy as np\n",
        "np.random.seed(42)\n",
        "v_revenge = np.array([1,0,1,0,1,0,1])\n",
        "print(v_revenge)\n",
        "\n",
        "weight = np.random.random_sample((7,4))\n",
        "print(weight)\n",
        "\n",
        "\n",
        "hidden_layer_sg = np.dot(v_revenge,weight)\n",
        "print(hidden_layer_sg)\n",
        "\n",
        "weight_prime = np.random.random_sample((4,7))\n",
        "print(weight_prime)\n",
        "\n",
        "o_the = np.dot(hidden_layer_sg, weight_prime)\n",
        "print(o_the)\n"
      ]
    },
    {
      "cell_type": "code",
      "source": [
        "v_the = np.array([1,0,1,0,1,0,1])\n",
        "print(v_the)\n",
        "\n",
        "hidden_layer_cbow = np.dot(v_the,weight)\n",
        "print(hidden_layer_cbow)\n",
        "\n",
        "o_revenge = np.dot(hidden_layer_cbow, weight_prime)\n",
        "print(o_revenge)\n"
      ],
      "metadata": {
        "colab": {
          "base_uri": "https://localhost:8080/"
        },
        "id": "gxtN8_eOuqbu",
        "outputId": "01ca6548-8b37-4b2c-92b5-8218317f9d2d"
      },
      "execution_count": 18,
      "outputs": [
        {
          "output_type": "stream",
          "name": "stdout",
          "text": [
            "[1 0 1 0 1 0 1]\n",
            "[1.73596736 2.96871928 1.38419724 2.37403191]\n",
            "[3.91476802 4.54545281 3.54303172 5.47478208 3.97543493 4.14884193\n",
            " 6.09166064]\n"
          ]
        }
      ]
    }
  ]
}