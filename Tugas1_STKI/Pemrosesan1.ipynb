{
  "nbformat": 4,
  "nbformat_minor": 0,
  "metadata": {
    "colab": {
      "provenance": []
    },
    "kernelspec": {
      "name": "python3",
      "display_name": "Python 3"
    },
    "language_info": {
      "name": "python"
    }
  },
  "cells": [
    {
      "cell_type": "code",
      "source": [
        "kalimat = \"Hingga tahun 2021, pemerintah mencatat penambahan jumlah pulau di Indonesia menjadi 17.000, lho.\"\n",
        "lower_case = kalimat.lower()\n",
        "print(lower_case)"
      ],
      "metadata": {
        "colab": {
          "base_uri": "https://localhost:8080/"
        },
        "id": "nrXhLz65ZCWj",
        "outputId": "7c98fbcf-9498-4a25-b93e-e4c1de26b9bd"
      },
      "execution_count": 5,
      "outputs": [
        {
          "output_type": "stream",
          "name": "stdout",
          "text": [
            "hingga tahun 2021, pemerintah mencatat penambahan jumlah pulau di indonesia menjadi 17.000, lho.\n"
          ]
        }
      ]
    },
    {
      "cell_type": "code",
      "source": [
        "import re\n",
        "kalimat = \"Pemerintah mencatat penambahan 17000 jumlah pulau di Indonesia\"\n",
        "kalimat_bersih = re.sub(r\"\\d+\", \"\", kalimat)\n",
        "kalimat_bersih"
      ],
      "metadata": {
        "colab": {
          "base_uri": "https://localhost:8080/",
          "height": 35
        },
        "id": "UmC6t86baAb9",
        "outputId": "49198860-8292-4f9e-b77a-79faa0124ed6"
      },
      "execution_count": 9,
      "outputs": [
        {
          "output_type": "execute_result",
          "data": {
            "text/plain": [
              "'Pemerintah mencatat penambahan  jumlah pulau di Indonesia'"
            ],
            "application/vnd.google.colaboratory.intrinsic+json": {
              "type": "string"
            }
          },
          "metadata": {},
          "execution_count": 9
        }
      ]
    },
    {
      "cell_type": "code",
      "source": [
        "import string\n",
        "kalimat = \"Hingga tahun 2021, pemerintah mencatat penambahan jumlah pulau di Indonesia menjadi 17.000, lho.\"\n",
        "kalimat_bersih = kalimat.translate(str.maketrans(\"\", \"\", string.punctuation))\n",
        "kalimat_bersih"
      ],
      "metadata": {
        "colab": {
          "base_uri": "https://localhost:8080/",
          "height": 35
        },
        "id": "1ky_3RbEbjTO",
        "outputId": "eb2dc01a-4dcb-4547-996c-e5e0ae9d4f2e"
      },
      "execution_count": 8,
      "outputs": [
        {
          "output_type": "execute_result",
          "data": {
            "text/plain": [
              "'Hingga tahun 2021 pemerintah mencatat penambahan jumlah pulau di Indonesia menjadi 17000 lho'"
            ],
            "application/vnd.google.colaboratory.intrinsic+json": {
              "type": "string"
            }
          },
          "metadata": {},
          "execution_count": 8
        }
      ]
    },
    {
      "cell_type": "code",
      "source": [
        "kalimat = \"\\t Hingga tahun 2021 pemerintah mencatat penambahan jumlah pulau di Indonesia menjadi 17.000, lho. \\t\"\n",
        "kalimat_bersih = kalimat.strip()\n",
        "kalimat_bersih"
      ],
      "metadata": {
        "colab": {
          "base_uri": "https://localhost:8080/",
          "height": 35
        },
        "id": "-j57vBCuc5UD",
        "outputId": "1b6d642c-ded3-4ca4-8867-f43176892dd0"
      },
      "execution_count": 14,
      "outputs": [
        {
          "output_type": "execute_result",
          "data": {
            "text/plain": [
              "'Hingga tahun 2021 pemerintah mencatat penambahan jumlah pulau di Indonesia menjadi 17.000, lho.'"
            ],
            "application/vnd.google.colaboratory.intrinsic+json": {
              "type": "string"
            }
          },
          "metadata": {},
          "execution_count": 14
        }
      ]
    },
    {
      "cell_type": "code",
      "source": [
        "kalimat = \"Hingga tahun 2021, pemerintah mencatat penambahan jumlah pulau di Indonesia menjadi 17.000, lho.\"\n",
        "kalimat_bersih = kalimat.split()\n",
        "kalimat_bersih"
      ],
      "metadata": {
        "colab": {
          "base_uri": "https://localhost:8080/"
        },
        "id": "Xfk4og5Kd7Dv",
        "outputId": "3a0c5843-5368-4483-a78e-430060fef796"
      },
      "execution_count": 15,
      "outputs": [
        {
          "output_type": "execute_result",
          "data": {
            "text/plain": [
              "['Hingga',\n",
              " 'tahun',\n",
              " '2021,',\n",
              " 'pemerintah',\n",
              " 'mencatat',\n",
              " 'penambahan',\n",
              " 'jumlah',\n",
              " 'pulau',\n",
              " 'di',\n",
              " 'Indonesia',\n",
              " 'menjadi',\n",
              " '17.000,',\n",
              " 'lho.']"
            ]
          },
          "metadata": {},
          "execution_count": 15
        }
      ]
    },
    {
      "cell_type": "code",
      "source": [
        "type(kalimat),type(kalimat_bersih)"
      ],
      "metadata": {
        "colab": {
          "base_uri": "https://localhost:8080/"
        },
        "id": "qfhfKgzzeuEq",
        "outputId": "29e6d02b-3c12-47a4-d2f4-d2d9fb809bb3"
      },
      "execution_count": 17,
      "outputs": [
        {
          "output_type": "execute_result",
          "data": {
            "text/plain": [
              "(str, list)"
            ]
          },
          "metadata": {},
          "execution_count": 17
        }
      ]
    },
    {
      "cell_type": "code",
      "source": [
        "kalimat = \"Hingga tahun 2021, pemerintah mencatat penambahan jumlah pulau di Indonesia menjadi 17.000, lho.\"\n",
        "kalimat_bersih = kalimat.translate(str.maketrans('', '', string.punctuation)), lower_case, kalimat.split()\n",
        "kalimat_bersih\n",
        "\n"
      ],
      "metadata": {
        "colab": {
          "base_uri": "https://localhost:8080/"
        },
        "id": "EpEEeSAte6xJ",
        "outputId": "43a85473-3006-4d27-9801-14c95b5ff083"
      },
      "execution_count": 22,
      "outputs": [
        {
          "output_type": "execute_result",
          "data": {
            "text/plain": [
              "('Hingga tahun 2021 pemerintah mencatat penambahan jumlah pulau di Indonesia menjadi 17000 lho',\n",
              " 'hingga tahun 2021, pemerintah mencatat penambahan jumlah pulau di indonesia menjadi 17.000, lho.',\n",
              " ['Hingga',\n",
              "  'tahun',\n",
              "  '2021,',\n",
              "  'pemerintah',\n",
              "  'mencatat',\n",
              "  'penambahan',\n",
              "  'jumlah',\n",
              "  'pulau',\n",
              "  'di',\n",
              "  'Indonesia',\n",
              "  'menjadi',\n",
              "  '17.000,',\n",
              "  'lho.'])"
            ]
          },
          "metadata": {},
          "execution_count": 22
        }
      ]
    },
    {
      "cell_type": "markdown",
      "source": [
        "https://matplotlib.org"
      ],
      "metadata": {
        "id": "dce81q-Phpua"
      }
    },
    {
      "cell_type": "code",
      "source": [
        "import matplotlib.pyplot as plt\n",
        "kalimat_bersih.plot(30, cumulative=False)\n",
        "plt.show()"
      ],
      "metadata": {
        "colab": {
          "base_uri": "https://localhost:8080/",
          "height": 176
        },
        "id": "9TUnQaV4hIlA",
        "outputId": "15ec8c35-d464-4436-81c8-8610f395a688"
      },
      "execution_count": 26,
      "outputs": [
        {
          "output_type": "error",
          "ename": "AttributeError",
          "evalue": "'tuple' object has no attribute 'plot'",
          "traceback": [
            "\u001b[0;31m---------------------------------------------------------------------------\u001b[0m",
            "\u001b[0;31mAttributeError\u001b[0m                            Traceback (most recent call last)",
            "\u001b[0;32m<ipython-input-26-c29db92ebb41>\u001b[0m in \u001b[0;36m<cell line: 2>\u001b[0;34m()\u001b[0m\n\u001b[1;32m      1\u001b[0m \u001b[0;32mimport\u001b[0m \u001b[0mmatplotlib\u001b[0m\u001b[0;34m.\u001b[0m\u001b[0mpyplot\u001b[0m \u001b[0;32mas\u001b[0m \u001b[0mplt\u001b[0m\u001b[0;34m\u001b[0m\u001b[0;34m\u001b[0m\u001b[0m\n\u001b[0;32m----> 2\u001b[0;31m \u001b[0mkalimat_bersih\u001b[0m\u001b[0;34m.\u001b[0m\u001b[0mplot\u001b[0m\u001b[0;34m(\u001b[0m\u001b[0;36m30\u001b[0m\u001b[0;34m,\u001b[0m \u001b[0mcumulative\u001b[0m\u001b[0;34m=\u001b[0m\u001b[0;32mFalse\u001b[0m\u001b[0;34m)\u001b[0m\u001b[0;34m\u001b[0m\u001b[0;34m\u001b[0m\u001b[0m\n\u001b[0m\u001b[1;32m      3\u001b[0m \u001b[0mplt\u001b[0m\u001b[0;34m.\u001b[0m\u001b[0mshow\u001b[0m\u001b[0;34m(\u001b[0m\u001b[0;34m)\u001b[0m\u001b[0;34m\u001b[0m\u001b[0;34m\u001b[0m\u001b[0m\n",
            "\u001b[0;31mAttributeError\u001b[0m: 'tuple' object has no attribute 'plot'"
          ]
        }
      ]
    }
  ]
}